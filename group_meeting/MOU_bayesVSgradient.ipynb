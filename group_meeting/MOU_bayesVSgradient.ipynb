{
 "cells": [
  {
   "cell_type": "markdown",
   "metadata": {},
   "source": [
    "## MOU"
   ]
  },
  {
   "cell_type": "markdown",
   "metadata": {},
   "source": [
    "## Estimation\n",
    "### Moments\n",
    "### MMSE\n",
    "### MLE\n",
    "### Bayesian"
   ]
  },
  {
   "cell_type": "code",
   "execution_count": 15,
   "metadata": {
    "collapsed": false
   },
   "outputs": [
    {
     "name": "stdout",
     "output_type": "stream",
     "text": [
      "0.724702605272\n",
      "(0.61159002871723867, 0.0)\n"
     ]
    }
   ],
   "source": [
    "import os\n",
    "os.chdir('/home/andrea/Work/code/neuroconn')\n",
    "from MOU import MOU\n",
    "from scipy.io import loadmat\n",
    "import numpy as np\n",
    "from scipy.stats import pearsonr\n",
    "\n",
    "data = loadmat('/home/andrea/Work/data/AD_compact/data/alzheimers_3rd_TS.mat')\n",
    "TS = data['TS']\n",
    "subj = 3\n",
    "ts = TS[:, :, subj].T\n",
    "model = MOU(n_nodes=90)\n",
    "model.fit(X=ts)\n",
    "print(model.d_fit['correlation'])\n",
    "C_true = model.C\n",
    "ts_sim = model.simulate(T=3000)\n",
    "model.fit(X=ts_sim)\n",
    "print(pearsonr(C_true.flatten(), model.C.flatten()))"
   ]
  },
  {
   "cell_type": "code",
   "execution_count": 9,
   "metadata": {
    "collapsed": false
   },
   "outputs": [
    {
     "data": {
      "text/plain": [
       "(290, 90)"
      ]
     },
     "execution_count": 9,
     "metadata": {},
     "output_type": "execute_result"
    }
   ],
   "source": []
  },
  {
   "cell_type": "code",
   "execution_count": null,
   "metadata": {
    "collapsed": true
   },
   "outputs": [],
   "source": []
  }
 ],
 "metadata": {
  "kernelspec": {
   "display_name": "Python 3",
   "language": "python",
   "name": "python3"
  },
  "language_info": {
   "codemirror_mode": {
    "name": "ipython",
    "version": 3
   },
   "file_extension": ".py",
   "mimetype": "text/x-python",
   "name": "python",
   "nbconvert_exporter": "python",
   "pygments_lexer": "ipython3",
   "version": "3.6.0"
  }
 },
 "nbformat": 4,
 "nbformat_minor": 2
}
